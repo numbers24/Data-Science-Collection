{
  "nbformat": 4,
  "nbformat_minor": 0,
  "metadata": {
    "colab": {
      "name": "quiz4.ipynb",
      "provenance": [],
      "collapsed_sections": []
    },
    "kernelspec": {
      "name": "ir",
      "display_name": "R"
    }
  },
  "cells": [
    {
      "cell_type": "code",
      "metadata": {
        "id": "qFtAiC-bN0Qo"
      },
      "source": [
        "train <- read.csv(\"Credit_train.csv\")\r\n",
        "test <- read.csv(\"Credit_test.csv\")"
      ],
      "execution_count": 2,
      "outputs": []
    },
    {
      "cell_type": "code",
      "metadata": {
        "colab": {
          "base_uri": "https://localhost:8080/"
        },
        "id": "1ximW-9G8y_5",
        "outputId": "68bcdac0-c7da-4a0d-de0b-7aaacb8ddbdd"
      },
      "source": [
        "install.packages(\"OneR\")\r\n",
        "install.packages(\"caret\")\r\n",
        "install.packages(\"e1071\")\r\n",
        "install.packages(\"AUC\")\r\n",
        "install.packages(\"rpart\")\r\n",
        "install.packages(\"rpart.plot\")\r\n",
        "library(OneR)\r\n",
        "library(caret)\r\n",
        "library(e1071)\r\n",
        "library(AUC)\r\n",
        "library(rpart)\r\n",
        "library(rpart.plot)"
      ],
      "execution_count": 3,
      "outputs": [
        {
          "output_type": "stream",
          "text": [
            "Installing package into ‘/usr/local/lib/R/site-library’\n",
            "(as ‘lib’ is unspecified)\n",
            "\n",
            "Installing package into ‘/usr/local/lib/R/site-library’\n",
            "(as ‘lib’ is unspecified)\n",
            "\n",
            "also installing the dependencies ‘numDeriv’, ‘SQUAREM’, ‘lava’, ‘prodlim’, ‘iterators’, ‘data.table’, ‘gower’, ‘ipred’, ‘timeDate’, ‘foreach’, ‘plyr’, ‘ModelMetrics’, ‘reshape2’, ‘recipes’, ‘pROC’\n",
            "\n",
            "\n",
            "Installing package into ‘/usr/local/lib/R/site-library’\n",
            "(as ‘lib’ is unspecified)\n",
            "\n",
            "Installing package into ‘/usr/local/lib/R/site-library’\n",
            "(as ‘lib’ is unspecified)\n",
            "\n",
            "Installing package into ‘/usr/local/lib/R/site-library’\n",
            "(as ‘lib’ is unspecified)\n",
            "\n",
            "Installing package into ‘/usr/local/lib/R/site-library’\n",
            "(as ‘lib’ is unspecified)\n",
            "\n",
            "Loading required package: lattice\n",
            "\n",
            "Loading required package: ggplot2\n",
            "\n",
            "AUC 0.3.0\n",
            "\n",
            "Type AUCNews() to see the change log and ?AUC to get an overview.\n",
            "\n",
            "\n",
            "Attaching package: ‘AUC’\n",
            "\n",
            "\n",
            "The following objects are masked from ‘package:caret’:\n",
            "\n",
            "    sensitivity, specificity\n",
            "\n",
            "\n"
          ],
          "name": "stderr"
        }
      ]
    },
    {
      "cell_type": "code",
      "metadata": {
        "colab": {
          "base_uri": "https://localhost:8080/",
          "height": 1000
        },
        "id": "JVdTNlT1-Exa",
        "outputId": "6fe4a678-471f-48c6-fadb-0569cbf514ac"
      },
      "source": [
        "train <- na.omit(train)\r\n",
        "test <- na.omit(test)\r\n",
        "\r\n",
        "train.bin <- optbin(train)\r\n",
        "\r\n",
        "\r\n",
        "model.OneR <- OneR(DEFAULT~., data = train.bin, verbose = TRUE)\r\n",
        "plot(model.OneR)\r\n",
        "\r\n",
        "pred <- predict(model.OneR, test, type = \"class\")\r\n",
        "eval_model(pred,test)"
      ],
      "execution_count": 4,
      "outputs": [
        {
          "output_type": "stream",
          "text": [
            "\n",
            "    Attribute   Accuracy\n",
            "1 * DAYSDELQ    91.67%  \n",
            "2   BUSAGE      91.39%  \n",
            "2   BUSTYPE     91.39%  \n",
            "2   MAXLINEUTIL 91.39%  \n",
            "2   TOTACBAL    91.39%  \n",
            "---\n",
            "Chosen attribute due to accuracy\n",
            "and ties method (if applicable): '*'\n",
            "\n",
            "\n",
            "Confusion matrix (absolute):\n",
            "          Actual\n",
            "Prediction    N    Y  Sum\n",
            "       N   4286  391 4677\n",
            "       Y     11   18   29\n",
            "       Sum 4297  409 4706\n",
            "\n",
            "Confusion matrix (relative):\n",
            "          Actual\n",
            "Prediction    N    Y  Sum\n",
            "       N   0.91 0.08 0.99\n",
            "       Y   0.00 0.00 0.01\n",
            "       Sum 0.91 0.09 1.00\n",
            "\n",
            "Accuracy:\n",
            "0.9146 (4304/4706)\n",
            "\n",
            "Error rate:\n",
            "0.0854 (402/4706)\n",
            "\n",
            "Error rate reduction (vs. base rate):\n",
            "0.0171 (p-value = 0.3707)\n",
            "\n"
          ],
          "name": "stdout"
        },
        {
          "output_type": "display_data",
          "data": {
            "image/png": "[encoded data removed]",
            "text/plain": [
              "Plot with title “OneR model diagnostic plot”"
            ]
          },
          "metadata": {
            "tags": [],
            "image/png": {
              "width": 420,
              "height": 420
            }
          }
        }
      ]
    },
    {
      "cell_type": "code",
      "metadata": {
        "colab": {
          "base_uri": "https://localhost:8080/"
        },
        "id": "HGFKAXY1-Kkp",
        "outputId": "4b33fecc-5db2-45b3-e8b2-17b8b1c66b94"
      },
      "source": [
        "#Question 5\r\n",
        "\r\n",
        "sensitivity = 18/409\r\n",
        "print(sensitivity)"
      ],
      "execution_count": 5,
      "outputs": [
        {
          "output_type": "stream",
          "text": [
            "[1] 0.04400978\n"
          ],
          "name": "stdout"
        }
      ]
    },
    {
      "cell_type": "code",
      "metadata": {
        "colab": {
          "base_uri": "https://localhost:8080/"
        },
        "id": "SfuMyDIb-PNB",
        "outputId": "68194a61-68b0-49c0-e002-84201fba590e"
      },
      "source": [
        "# Question 6\r\n",
        "Px = .5\r\n",
        "Pc = .4\r\n",
        "Pxc = .1\r\n",
        "Pcx = (Pxc*Pc)/Px\r\n",
        "print(Pcx)"
      ],
      "execution_count": 6,
      "outputs": [
        {
          "output_type": "stream",
          "text": [
            "[1] 0.08\n"
          ],
          "name": "stdout"
        }
      ]
    },
    {
      "cell_type": "code",
      "metadata": {
        "colab": {
          "base_uri": "https://localhost:8080/"
        },
        "id": "rBhKq9ZH-SHJ",
        "outputId": "530f1414-6af6-41e3-d9c2-4406e4e6cbb7"
      },
      "source": [
        "#Question 7\r\n",
        "\r\n",
        "a = 15\r\n",
        "b = 10\r\n",
        "c = 394\r\n",
        "d = 4287\r\n",
        "\r\n",
        "accuracy = (a+d)/(a+b+c+d)\r\n",
        "sensitivity = a/(a+c)\r\n",
        "\r\n",
        "print(accuracy)\r\n",
        "print(sensitivity)"
      ],
      "execution_count": 7,
      "outputs": [
        {
          "output_type": "stream",
          "text": [
            "[1] 0.9141521\n",
            "[1] 0.03667482\n"
          ],
          "name": "stdout"
        }
      ]
    },
    {
      "cell_type": "code",
      "metadata": {
        "colab": {
          "base_uri": "https://localhost:8080/",
          "height": 454
        },
        "id": "Ru7gaOkj-VaC",
        "outputId": "8293c7db-07a3-47e5-f1d1-3aa78cee75d9"
      },
      "source": [
        "model.Bayes <- naiveBayes(DEFAULT~., data = train)\r\n",
        "\r\n",
        "pb <-NULL\r\n",
        "pb <- predict(model.Bayes, test, type = \"raw\")\r\n",
        "pb <- as.data.frame(pb)\r\n",
        "\r\n",
        "pred.Bayes <- data.frame(test$DEFAULT,pb$Y)\r\n",
        "colnames(pred.Bayes) <- c(\"target\",\"score\")\r\n",
        "labels <- as.factor(ifelse(pred.Bayes$target==\"Y\", 1, 0))\r\n",
        "\r\n",
        "predictions <- pred.Bayes$score\r\n",
        "auc(roc(predictions, labels), min = 0, max = 1)\r\n",
        "plot(roc(predictions, labels), min=0, max=1, type=\"l\", main=\"Bayesian Classifier - ROC Chart\")"
      ],
      "execution_count": 8,
      "outputs": [
        {
          "output_type": "display_data",
          "data": {
            "text/plain": [
              "[1] 0.6960101"
            ],
            "text/latex": "0.696010123626373",
            "text/markdown": "0.696010123626373",
            "text/html": [
              "0.696010123626373"
            ]
          },
          "metadata": {
            "tags": []
          }
        },
        {
          "output_type": "display_data",
          "data": {
            "image/png": "[encoded data removed]",
            "text/plain": [
              "Plot with title “Bayesian Classifier - ROC Chart”"
            ]
          },
          "metadata": {
            "tags": [],
            "image/png": {
              "width": 420,
              "height": 420
            }
          }
        }
      ]
    },
    {
      "cell_type": "code",
      "metadata": {
        "colab": {
          "base_uri": "https://localhost:8080/"
        },
        "id": "qrk-DZJH-mW4",
        "outputId": "e386aaf3-c5c0-43b6-ac97-c2a79310b13b"
      },
      "source": [
        "#Question 10\r\n",
        "a=17\r\n",
        "b=5\r\n",
        "c=392\r\n",
        "d=4292\r\n",
        "accuracy = (a+d)/(a+b+c+d)\r\n",
        "sensitivity = a/(a+c)\r\n",
        "\r\n",
        "print(accuracy)\r\n",
        "print(sensitivity)"
      ],
      "execution_count": 9,
      "outputs": [
        {
          "output_type": "stream",
          "text": [
            "[1] 0.9156396\n",
            "[1] 0.04156479\n"
          ],
          "name": "stdout"
        }
      ]
    },
    {
      "cell_type": "code",
      "metadata": {
        "colab": {
          "base_uri": "https://localhost:8080/",
          "height": 1000
        },
        "id": "CZ48-sxA-n-S",
        "outputId": "1181f329-836a-4978-b96b-de25fd38042e"
      },
      "source": [
        "#Question 11\r\n",
        "\r\n",
        "model.Dtree <- rpart(DEFAULT~., data = train, method=\"class\")\r\n",
        "prp(model.Dtree)\r\n",
        "\r\n",
        "pb <- NULL\r\n",
        "pb <- predict(model.Dtree, test)\r\n",
        "pb <- as.data.frame(pb)\r\n",
        "pred.Dtree <- data.frame(test$DEFAULT, pb$Y)\r\n",
        "colnames(pred.Dtree) <- c(\"target\",\"score\")\r\n",
        "\r\n",
        "pc <- NULL\r\n",
        "pc <- ifelse(pb$N > pb$Y, \"N\", \"Y\")\r\n",
        "summary(as.data.frame(pc))\r\n",
        "xtab <- table(pc, test$DEFAULT)\r\n",
        "caret::confusionMatrix(xtab, positive = \"Y\")\r\n",
        "\r\n",
        "labels <- as.factor(ifelse(pred.Dtree$target==\"Y\", 1, 0))\r\n",
        "predictions <- pred.Dtree$score\r\n",
        "auc(roc(predictions, labels), min = 0, max = 1)\r\n",
        "plot(roc(predictions, labels), min=0, max=1, type=\"l\", main=\"Decision Tree - ROC Chart\")"
      ],
      "execution_count": 10,
      "outputs": [
        {
          "output_type": "display_data",
          "data": {
            "text/plain": [
              "      pc           \n",
              " Length:4706       \n",
              " Class :character  \n",
              " Mode  :character  "
            ]
          },
          "metadata": {
            "tags": []
          }
        },
        {
          "output_type": "display_data",
          "data": {
            "text/plain": [
              "Confusion Matrix and Statistics\n",
              "\n",
              "   \n",
              "pc     N    Y\n",
              "  N 4292  392\n",
              "  Y    5   17\n",
              "                                          \n",
              "               Accuracy : 0.9156          \n",
              "                 95% CI : (0.9073, 0.9234)\n",
              "    No Information Rate : 0.9131          \n",
              "    P-Value [Acc > NIR] : 0.2774          \n",
              "                                          \n",
              "                  Kappa : 0.0706          \n",
              "                                          \n",
              " Mcnemar's Test P-Value : <2e-16          \n",
              "                                          \n",
              "            Sensitivity : 0.041565        \n",
              "            Specificity : 0.998836        \n",
              "         Pos Pred Value : 0.772727        \n",
              "         Neg Pred Value : 0.916311        \n",
              "             Prevalence : 0.086910        \n",
              "         Detection Rate : 0.003612        \n",
              "   Detection Prevalence : 0.004675        \n",
              "      Balanced Accuracy : 0.520201        \n",
              "                                          \n",
              "       'Positive' Class : Y               \n",
              "                                          "
            ]
          },
          "metadata": {
            "tags": []
          }
        },
        {
          "output_type": "display_data",
          "data": {
            "text/plain": [
              "[1] 0.654247"
            ],
            "text/latex": "0.654247035374085",
            "text/markdown": "0.654247035374085",
            "text/html": [
              "0.654247035374085"
            ]
          },
          "metadata": {
            "tags": []
          }
        },
        {
          "output_type": "display_data",
          "data": {
            "image/png": "[encoded data removed]",
            "text/plain": [
              "plot without title"
            ]
          },
          "metadata": {
            "tags": [],
            "image/png": {
              "width": 420,
              "height": 420
            }
          }
        },
        {
          "output_type": "display_data",
          "data": {
            "image/png": "[encoded data removed]",
            "text/plain": [
              "Plot with title “Decision Tree - ROC Chart”"
            ]
          },
          "metadata": {
            "tags": [],
            "image/png": {
              "width": 420,
              "height": 420
            }
          }
        }
      ]
    },
    {
      "cell_type": "code",
      "metadata": {
        "colab": {
          "base_uri": "https://localhost:8080/"
        },
        "id": "ovs6rxzqA7r9",
        "outputId": "f05e90b0-ee1f-4e39-ae61-64078e9480c6"
      },
      "source": [
        "#Question 12-15\r\n",
        "\r\n",
        "Entropy <- function(a) {\r\n",
        "  x = a/sum(a)\r\n",
        " return(sum(-x*log2(x)))\r\n",
        "}\r\n",
        "Twotropy <- function(a,b) {\r\n",
        "  e1 = Entropy(a)\r\n",
        "  e2 = Entropy(b)\r\n",
        "  p1 = sum(a)/sum(a,b)\r\n",
        "  p2 = sum(b)/sum(a,b)\r\n",
        "  return(p1*e1+p2*e2)\r\n",
        "}\r\n",
        "Et = Entropy(c(17373,1636))\r\n",
        "Etv = Twotropy(c(17193,180),c(1520,116))\r\n",
        "print(Et)\r\n",
        "print(Twotropy(c(10543, 4243, 1082, 1439, 17, 49),c(994, 434, 77, 124, 1, 6)))\r\n",
        "print(Etv)\r\n",
        "print(Et-Etv)"
      ],
      "execution_count": 11,
      "outputs": [
        {
          "output_type": "stream",
          "text": [
            "[1] 0.4231954\n",
            "[1] 1.510929\n",
            "[1] 0.1078006\n",
            "[1] 0.3153948\n"
          ],
          "name": "stdout"
        }
      ]
    }
  ]
}