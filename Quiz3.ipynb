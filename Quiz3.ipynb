{
  "nbformat": 4,
  "nbformat_minor": 0,
  "metadata": {
    "colab": {
      "name": "Untitled0.ipynb",
      "provenance": [],
      "toc_visible": true
    },
    "kernelspec": {
      "name": "python3",
      "display_name": "Python 3"
    }
  },
  "cells": [
    {
      "cell_type": "code",
      "metadata": {
        "colab": {
          "base_uri": "https://localhost:8080/",
          "height": 175
        },
        "id": "zeW9dlopKIoY",
        "outputId": "6ab04064-2609-4eb1-a536-32db0bd6030d"
      },
      "source": [
        "import pandas as pd\r\n",
        "\r\n",
        "train = pd.read_csv(r'Credit_train.csv')\r\n",
        "#questions 1-3\r\n",
        "train.corr()\r\n"
      ],
      "execution_count": 4,
      "outputs": [
        {
          "output_type": "execute_result",
          "data": {
            "text/html": [
              "<div>\n",
              "<style scoped>\n",
              "    .dataframe tbody tr th:only-of-type {\n",
              "        vertical-align: middle;\n",
              "    }\n",
              "\n",
              "    .dataframe tbody tr th {\n",
              "        vertical-align: top;\n",
              "    }\n",
              "\n",
              "    .dataframe thead th {\n",
              "        text-align: right;\n",
              "    }\n",
              "</style>\n",
              "<table border=\"1\" class=\"dataframe\">\n",
              "  <thead>\n",
              "    <tr style=\"text-align: right;\">\n",
              "      <th></th>\n",
              "      <th>BUSAGE</th>\n",
              "      <th>MAXLINEUTIL</th>\n",
              "      <th>DAYSDELQ</th>\n",
              "      <th>TOTACBAL</th>\n",
              "    </tr>\n",
              "  </thead>\n",
              "  <tbody>\n",
              "    <tr>\n",
              "      <th>BUSAGE</th>\n",
              "      <td>1.000000</td>\n",
              "      <td>-0.031004</td>\n",
              "      <td>-0.023013</td>\n",
              "      <td>0.075082</td>\n",
              "    </tr>\n",
              "    <tr>\n",
              "      <th>MAXLINEUTIL</th>\n",
              "      <td>-0.031004</td>\n",
              "      <td>1.000000</td>\n",
              "      <td>0.067837</td>\n",
              "      <td>0.517829</td>\n",
              "    </tr>\n",
              "    <tr>\n",
              "      <th>DAYSDELQ</th>\n",
              "      <td>-0.023013</td>\n",
              "      <td>0.067837</td>\n",
              "      <td>1.000000</td>\n",
              "      <td>-0.036848</td>\n",
              "    </tr>\n",
              "    <tr>\n",
              "      <th>TOTACBAL</th>\n",
              "      <td>0.075082</td>\n",
              "      <td>0.517829</td>\n",
              "      <td>-0.036848</td>\n",
              "      <td>1.000000</td>\n",
              "    </tr>\n",
              "  </tbody>\n",
              "</table>\n",
              "</div>"
            ],
            "text/plain": [
              "               BUSAGE  MAXLINEUTIL  DAYSDELQ  TOTACBAL\n",
              "BUSAGE       1.000000    -0.031004 -0.023013  0.075082\n",
              "MAXLINEUTIL -0.031004     1.000000  0.067837  0.517829\n",
              "DAYSDELQ    -0.023013     0.067837  1.000000 -0.036848\n",
              "TOTACBAL     0.075082     0.517829 -0.036848  1.000000"
            ]
          },
          "metadata": {
            "tags": []
          },
          "execution_count": 4
        }
      ]
    },
    {
      "cell_type": "code",
      "metadata": {
        "colab": {
          "base_uri": "https://localhost:8080/",
          "height": 175
        },
        "id": "vG9KmoeYKQXz",
        "outputId": "e3c423e0-974e-4aa1-c523-00b2516b0b86"
      },
      "source": [
        "#question 4-6\r\n",
        "train.cov()"
      ],
      "execution_count": 5,
      "outputs": [
        {
          "output_type": "execute_result",
          "data": {
            "text/html": [
              "<div>\n",
              "<style scoped>\n",
              "    .dataframe tbody tr th:only-of-type {\n",
              "        vertical-align: middle;\n",
              "    }\n",
              "\n",
              "    .dataframe tbody tr th {\n",
              "        vertical-align: top;\n",
              "    }\n",
              "\n",
              "    .dataframe thead th {\n",
              "        text-align: right;\n",
              "    }\n",
              "</style>\n",
              "<table border=\"1\" class=\"dataframe\">\n",
              "  <thead>\n",
              "    <tr style=\"text-align: right;\">\n",
              "      <th></th>\n",
              "      <th>BUSAGE</th>\n",
              "      <th>MAXLINEUTIL</th>\n",
              "      <th>DAYSDELQ</th>\n",
              "      <th>TOTACBAL</th>\n",
              "    </tr>\n",
              "  </thead>\n",
              "  <tbody>\n",
              "    <tr>\n",
              "      <th>BUSAGE</th>\n",
              "      <td>10737.355089</td>\n",
              "      <td>-1.387138</td>\n",
              "      <td>-16.841434</td>\n",
              "      <td>1.773395e+05</td>\n",
              "    </tr>\n",
              "    <tr>\n",
              "      <th>MAXLINEUTIL</th>\n",
              "      <td>-1.387138</td>\n",
              "      <td>0.185473</td>\n",
              "      <td>0.189120</td>\n",
              "      <td>5.069575e+03</td>\n",
              "    </tr>\n",
              "    <tr>\n",
              "      <th>DAYSDELQ</th>\n",
              "      <td>-16.841434</td>\n",
              "      <td>0.189120</td>\n",
              "      <td>49.586702</td>\n",
              "      <td>-5.990735e+03</td>\n",
              "    </tr>\n",
              "    <tr>\n",
              "      <th>TOTACBAL</th>\n",
              "      <td>177339.498909</td>\n",
              "      <td>5069.574860</td>\n",
              "      <td>-5990.735403</td>\n",
              "      <td>5.158225e+08</td>\n",
              "    </tr>\n",
              "  </tbody>\n",
              "</table>\n",
              "</div>"
            ],
            "text/plain": [
              "                    BUSAGE  MAXLINEUTIL     DAYSDELQ      TOTACBAL\n",
              "BUSAGE        10737.355089    -1.387138   -16.841434  1.773395e+05\n",
              "MAXLINEUTIL      -1.387138     0.185473     0.189120  5.069575e+03\n",
              "DAYSDELQ        -16.841434     0.189120    49.586702 -5.990735e+03\n",
              "TOTACBAL     177339.498909  5069.574860 -5990.735403  5.158225e+08"
            ]
          },
          "metadata": {
            "tags": []
          },
          "execution_count": 5
        }
      ]
    },
    {
      "cell_type": "code",
      "metadata": {
        "colab": {
          "base_uri": "https://localhost:8080/"
        },
        "id": "wTfpwYR0KcYw",
        "outputId": "bfe5d4eb-e67f-4ce7-bbee-5348d92cc386"
      },
      "source": [
        "#questions 8\r\n",
        "import scipy.stats as st\r\n",
        "\r\n",
        "train.dropna(inplace=True)\r\n",
        "cross = pd.crosstab(train['BUSTYPE'],train['DEFAULT'])\r\n",
        "st.chi2_contingency(cross)"
      ],
      "execution_count": 6,
      "outputs": [
        {
          "output_type": "execute_result",
          "data": {
            "text/plain": [
              "(9.85481097637964,\n",
              " 0.07945520439051051,\n",
              " 5,\n",
              " array([[1.05440739e+04, 9.92926088e+02],\n",
              "        [4.27447635e+03, 4.02523647e+02],\n",
              "        [1.05925125e+03, 9.97487506e+01],\n",
              "        [1.42848119e+03, 1.34518807e+02],\n",
              "        [1.64508391e+01, 1.54916092e+00],\n",
              "        [5.02664527e+01, 4.73354727e+00]]))"
            ]
          },
          "metadata": {
            "tags": []
          },
          "execution_count": 6
        }
      ]
    },
    {
      "cell_type": "code",
      "metadata": {
        "colab": {
          "base_uri": "https://localhost:8080/"
        },
        "id": "Ocxw6rbRKglh",
        "outputId": "143067a8-5da8-4789-ebf2-fd641379de36"
      },
      "source": [
        "#questions 10-13\r\n",
        "import numpy as np\r\n",
        "import math\r\n",
        "\r\n",
        "def Zval(s):\r\n",
        "    v = train[[s,'DEFAULT']]\r\n",
        "    a = v[v[\"DEFAULT\"] == 'Y']\r\n",
        "    b = v[v[\"DEFAULT\"] == 'N']\r\n",
        "\r\n",
        "    n1 = len(a)\r\n",
        "    n2 = len(b)\r\n",
        "\r\n",
        "    z = (a[s].mean() - b[s].mean())/(math.sqrt((np.var(a)/n1)+(np.var(b)/n2)))\r\n",
        "    return abs(z);\r\n",
        "\r\n",
        "def Zprob(z) :\r\n",
        "    return abs(1-(st.norm.cdf(z)-.5)*2)\r\n",
        "\r\n",
        "print (Zval('DAYSDELQ'))\r\n",
        "print(Zprob(Zval('TOTACBAL')))\r\n",
        "print (Zval('BUSAGE'))\r\n",
        "print (Zval('MAXLINEUTIL'))\r\n"
      ],
      "execution_count": 7,
      "outputs": [
        {
          "output_type": "stream",
          "text": [
            "6.447508208630024\n",
            "6.661338147750939e-16\n",
            "13.949868956383746\n",
            "24.83111512111584\n"
          ],
          "name": "stdout"
        }
      ]
    },
    {
      "cell_type": "code",
      "metadata": {
        "colab": {
          "base_uri": "https://localhost:8080/"
        },
        "id": "XDIf4ekvKhZx",
        "outputId": "9a9cf198-1bfe-48e3-dc86-c5142ef89c15"
      },
      "source": [
        "# question 14\r\n",
        "import statsmodels.api as sm\r\n",
        "from statsmodels.formula.api import ols\r\n",
        "\r\n",
        "def anova(s):\r\n",
        "  m = ols(s, data = train).fit()\r\n",
        "  t = sm.stats.anova_lm(m,typ = 2)\r\n",
        "  return t\r\n",
        "print(anova('BUSAGE ~ BUSTYPE'))\r\n",
        "print(anova('TOTACBAL ~ BUSTYPE'))\r\n",
        "print(anova('MAXLINEUTIL ~ BUSTYPE'))\r\n",
        "print(anova('DAYSDELQ ~ BUSTYPE'))"
      ],
      "execution_count": 14,
      "outputs": [
        {
          "output_type": "stream",
          "text": [
            "                sum_sq       df          F        PR(>F)\n",
            "BUSTYPE   2.168155e+06      5.0  40.398089  1.787523e-41\n",
            "Residual  2.039772e+08  19003.0        NaN           NaN\n",
            "                sum_sq       df          F        PR(>F)\n",
            "BUSTYPE   4.196464e+10      5.0  16.386265  3.590542e-16\n",
            "Residual  9.733202e+12  19003.0        NaN           NaN\n",
            "               sum_sq       df         F        PR(>F)\n",
            "BUSTYPE      7.109844      5.0  7.640268  3.494306e-07\n",
            "Residual  3536.744117  19003.0       NaN           NaN\n",
            "                 sum_sq       df         F    PR(>F)\n",
            "BUSTYPE       98.246606      5.0  0.386514  0.858387\n",
            "Residual  966060.592786  19003.0       NaN       NaN\n"
          ],
          "name": "stdout"
        }
      ]
    }
  ]
}